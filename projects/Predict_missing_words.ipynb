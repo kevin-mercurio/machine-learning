{
 "cells": [
  {
   "cell_type": "code",
   "execution_count": 175,
   "metadata": {
    "collapsed": true
   },
   "outputs": [],
   "source": [
    "sample_memo = '''Milt, we're gonna need to go ahead and move you downstairs into storage B. We have some new people coming in, and we need all the space we can get. So if you could just go ahead and pack up your stuff and move it down there, that would be terrific, OK?\n",
    "Oh, and remember: next Friday... is Hawaiian shirt day. So, you know, if you want to, go ahead and wear a Hawaiian shirt and jeans.\n",
    "Oh, oh, and I almost forgot. Ahh, I'm also gonna need you to go ahead and come in on Sunday, too...\n",
    "Hello Peter, whats happening? Ummm, I'm gonna need you to go ahead and come in tomorrow. So if you could be here around 9 that would be great, mmmk... oh oh! and I almost forgot ahh, I'm also gonna need you to go ahead and come in on Sunday too, kay. We ahh lost some people this week and ah, we sorta need to play catch up.\n",
    "'''"
   ]
  },
  {
   "cell_type": "code",
   "execution_count": 176,
   "metadata": {
    "collapsed": false
   },
   "outputs": [],
   "source": [
    "def NextWordProbability(sampletext,word):\n",
    "    ''' Takes in a string of `sampletext` and a string `word` and returns a dictionary with keys\n",
    "    equal to the set of words coming after `word` and values the count of the number of occurrences\n",
    "    of that key after `word`\n",
    "    '''\n",
    "    \n",
    "    after_dict = {}\n",
    "    ctr = 0\n",
    "    text_as_list = sampletext.split()\n",
    "    for i, token in enumerate(text_as_list):\n",
    "        if i == len(text_as_list) - 1:\n",
    "            break\n",
    "        if token == word:\n",
    "            ctr += 1\n",
    "            if text_as_list[i+1] in after_dict:\n",
    "                after_dict[text_as_list[i+1]] += 1\n",
    "            else:\n",
    "                after_dict[text_as_list[i+1]] = 1\n",
    "\n",
    "    for k,v in after_dict.items():\n",
    "        after_dict[k] = v/ctr\n",
    "    \n",
    "    return after_dict"
   ]
  },
  {
   "cell_type": "code",
   "execution_count": 179,
   "metadata": {
    "collapsed": false
   },
   "outputs": [
    {
     "name": "stdout",
     "output_type": "stream",
     "text": [
      "need\n"
     ]
    }
   ],
   "source": [
    "def LaterWords(sample,word,distance):\n",
    "    '''@param sample: a sample of text to draw from\n",
    "    @param word: a word occuring before a corrupted sequence\n",
    "    @param distance: how many words later to estimate (i.e. 1 for the next word, 2 for the word after that)\n",
    "    @returns: a single word which is the most likely possibility\n",
    "    '''\n",
    "    # TODO: Repeat the above process--for each distance beyond 1, evaluate the words that\n",
    "    # might come after each word, and combine them weighting by relative probability\n",
    "    # into an estimate of what might appear next.\n",
    "    result_dict = {}\n",
    "    after_dict = NextWordProbability(sample,word)\n",
    "    \n",
    "    if distance == 1:\n",
    "        result_dict = after_dict\n",
    "    elif distance == 2:\n",
    "        for k,v in after_dict.items():\n",
    "            for k2,v2 in NextWordProbability(sample, k).items():\n",
    "                result_dict[k2] = v2*v\n",
    "    \n",
    "    return max(result_dict,key=result_dict.get)\n",
    "\n",
    "    \n",
    "print(LaterWords(sample_memo,'gonna',1))"
   ]
  },
  {
   "cell_type": "code",
   "execution_count": null,
   "metadata": {
    "collapsed": true
   },
   "outputs": [],
   "source": []
  }
 ],
 "metadata": {
  "anaconda-cloud": {},
  "kernelspec": {
   "display_name": "Python [full_anaconda]",
   "language": "python",
   "name": "Python [full_anaconda]"
  },
  "language_info": {
   "codemirror_mode": {
    "name": "ipython",
    "version": 3
   },
   "file_extension": ".py",
   "mimetype": "text/x-python",
   "name": "python",
   "nbconvert_exporter": "python",
   "pygments_lexer": "ipython3",
   "version": "3.5.2"
  }
 },
 "nbformat": 4,
 "nbformat_minor": 0
}
